{
 "cells": [
  {
   "cell_type": "markdown",
   "metadata": {},
   "source": [
    "# Calculate mean and std on image dataset"
   ]
  },
  {
   "cell_type": "code",
   "execution_count": 4,
   "metadata": {},
   "outputs": [],
   "source": [
    "import numpy as np\n",
    "from os import listdir\n",
    "from os.path import join, isdir\n",
    "from glob import glob\n",
    "import cv2\n",
    "from tqdm import tqdm \n",
    "\n",
    "CHANNEL_NUM = 3\n",
    "\n",
    "def cal_dir_stat(root):\n",
    "    cls_dirs = [d for d in listdir(root) if isdir(join(root, d))]\n",
    "    pixel_num = 0 # store all pixel number in the dataset\n",
    "    channel_sum = np.zeros(CHANNEL_NUM)\n",
    "    channel_sum_squared = np.zeros(CHANNEL_NUM)\n",
    "\n",
    "    for idx, d in enumerate(cls_dirs):\n",
    "        im_pths = glob(join(root, d, \"*.jpg\"))\n",
    "        for path in tqdm(im_pths):\n",
    "            im = cv2.imread(path) # image in M*N*CHANNEL_NUM shape, channel in BGR order\n",
    "            im = im/255.0\n",
    "            pixel_num += (im.size/CHANNEL_NUM)\n",
    "            channel_sum += np.sum(im, axis=(0, 1))\n",
    "            channel_sum_squared += np.sum(np.square(im), axis=(0, 1))\n",
    "\n",
    "    bgr_mean = channel_sum / pixel_num\n",
    "    bgr_std = np.sqrt(channel_sum_squared / pixel_num - np.square(bgr_mean))\n",
    "    \n",
    "    # change the format from bgr to rgb\n",
    "    rgb_mean = list(bgr_mean)[::-1]\n",
    "    rgb_std = list(bgr_std)[::-1]\n",
    "    \n",
    "    return rgb_mean, rgb_std, channel_sum, channel_sum_squared, pixel_num\n",
    "\n",
    "# The script assumes that under train_root, there are separate directories for each class\n",
    "# of training images.\n"
   ]
  },
  {
   "cell_type": "markdown",
   "metadata": {},
   "source": [
    "## Calculate mean and std on train data"
   ]
  },
  {
   "cell_type": "code",
   "execution_count": 5,
   "metadata": {},
   "outputs": [
    {
     "name": "stderr",
     "output_type": "stream",
     "text": [
      "100%|██████████| 393930/393930 [2:08:47<00:00, 50.98it/s]  \n"
     ]
    }
   ],
   "source": [
    "train_root = \"/home/w/Projects/Courses/made/2_term/cv/MADE/homework_1/data/train\"\n",
    "rgb_mean, rgb_std, channel_sum, channel_sum_squared, pixel_num = cal_dir_stat(train_root)"
   ]
  },
  {
   "cell_type": "code",
   "execution_count": 6,
   "metadata": {},
   "outputs": [
    {
     "name": "stdout",
     "output_type": "stream",
     "text": [
      "[0.39986175012900305, 0.3202357665077171, 0.2829780781417735] [0.33425172239907414, 0.28654204127102256, 0.2700744122414718]\n"
     ]
    }
   ],
   "source": [
    "print(rgb_mean, rgb_std)"
   ]
  },
  {
   "cell_type": "markdown",
   "metadata": {},
   "source": [
    "## Calculate mean and std on test data"
   ]
  },
  {
   "cell_type": "code",
   "execution_count": null,
   "metadata": {},
   "outputs": [],
   "source": [
    "test_root = \"/home/w/Projects/Courses/made/2_term/cv/MADE/homework_1/data/test\"\n",
    "rgb_mean_test, rgb_std_test, channel_sum_test, channel_sum_squared_test, pixel_num_test = cal_dir_stat(test_root)\n",
    "print(rgb_mean_test, rgb_std_test)"
   ]
  },
  {
   "cell_type": "code",
   "execution_count": 18,
   "metadata": {},
   "outputs": [],
   "source": [
    "rgb_mean_all = (channel_sum + channel_sum_test) / (pixel_num + pixel_num_test)\n",
    "rgb_std_all = np.sqrt((channel_sum_squared + channel_sum_squared_test) /(pixel_num + pixel_num_test)- np.square(rgb_mean_all))"
   ]
  },
  {
   "cell_type": "code",
   "execution_count": 9,
   "metadata": {},
   "outputs": [
    {
     "name": "stdout",
     "output_type": "stream",
     "text": [
      "[0.3987713047901443, 0.3188266994750084, 0.280821570740049] [0.3339860318707827, 0.286073095094479, 0.2690661347078621]\n"
     ]
    }
   ],
   "source": [
    "print(rgb_mean_test, rgb_std_test)"
   ]
  },
  {
   "cell_type": "markdown",
   "metadata": {},
   "source": [
    "## Calculate mean and std on whole data including test set"
   ]
  },
  {
   "cell_type": "code",
   "execution_count": 17,
   "metadata": {},
   "outputs": [
    {
     "name": "stdout",
     "output_type": "stream",
     "text": [
      "[0.39963884 0.31994772 0.28253724]\n"
     ]
    }
   ],
   "source": [
    "print(bgr_mean_all[::-1])"
   ]
  },
  {
   "cell_type": "code",
   "execution_count": 20,
   "metadata": {},
   "outputs": [
    {
     "name": "stdout",
     "output_type": "stream",
     "text": [
      "[0.33419772 0.2864468  0.26987   ]\n"
     ]
    }
   ],
   "source": [
    "print(rgb_std_all[::-1])"
   ]
  }
 ],
 "metadata": {
  "kernelspec": {
   "display_name": "Python 3",
   "language": "python",
   "name": "python3"
  },
  "language_info": {
   "codemirror_mode": {
    "name": "ipython",
    "version": 3
   },
   "file_extension": ".py",
   "mimetype": "text/x-python",
   "name": "python",
   "nbconvert_exporter": "python",
   "pygments_lexer": "ipython3",
   "version": "3.6.10"
  }
 },
 "nbformat": 4,
 "nbformat_minor": 4
}
